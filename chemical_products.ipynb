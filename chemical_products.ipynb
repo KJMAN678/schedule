{
 "cells": [
  {
   "cell_type": "code",
   "execution_count": 1,
   "id": "ordered-relationship",
   "metadata": {},
   "outputs": [],
   "source": [
    "from mip import (CONTINUOUS, Model, OptimizationStatus, maximize, minimize)"
   ]
  },
  {
   "cell_type": "code",
   "execution_count": 2,
   "id": "pediatric-macedonia",
   "metadata": {},
   "outputs": [],
   "source": [
    "m = Model()"
   ]
  },
  {
   "cell_type": "code",
   "execution_count": 8,
   "id": "settled-muslim",
   "metadata": {},
   "outputs": [],
   "source": [
    "x = m.add_var(name=\"x\", lb=0, ub=float(\"inf\"),\n",
    "             var_type=CONTINUOUS) # 変数x\n",
    "\n",
    "y = m.add_var(name=\"y\", lb=0, ub=float(\"inf\"),\n",
    "             var_type=CONTINUOUS) # 変数y"
   ]
  },
  {
   "cell_type": "code",
   "execution_count": 9,
   "id": "maritime-sound",
   "metadata": {},
   "outputs": [],
   "source": [
    "# 目的関数\n",
    "m.objective = maximize(100 * x + 100 * y)"
   ]
  },
  {
   "cell_type": "code",
   "execution_count": 10,
   "id": "expired-challenge",
   "metadata": {},
   "outputs": [],
   "source": [
    "# 制約条件\n",
    "m += x + 2 * y <= 16 # 材料Aの上限の制約条件\n",
    "m += 3 * x + y <= 18 # 材料Bの上限の制約条件"
   ]
  },
  {
   "cell_type": "code",
   "execution_count": 11,
   "id": "stylish-pioneer",
   "metadata": {},
   "outputs": [
    {
     "data": {
      "text/plain": [
       "<OptimizationStatus.OPTIMAL: 0>"
      ]
     },
     "execution_count": 11,
     "metadata": {},
     "output_type": "execute_result"
    }
   ],
   "source": [
    "# ソルバー実行\n",
    "m.optimize()"
   ]
  },
  {
   "cell_type": "code",
   "execution_count": 12,
   "id": "trained-flour",
   "metadata": {},
   "outputs": [
    {
     "name": "stdout",
     "output_type": "stream",
     "text": [
      "4.0 6.0\n"
     ]
    }
   ],
   "source": [
    "# 結果の表示\n",
    "print(x.x, y.x)"
   ]
  },
  {
   "cell_type": "code",
   "execution_count": null,
   "id": "saving-ultimate",
   "metadata": {},
   "outputs": [],
   "source": []
  }
 ],
 "metadata": {
  "kernelspec": {
   "display_name": "Python 3",
   "language": "python",
   "name": "python3"
  },
  "language_info": {
   "codemirror_mode": {
    "name": "ipython",
    "version": 3
   },
   "file_extension": ".py",
   "mimetype": "text/x-python",
   "name": "python",
   "nbconvert_exporter": "python",
   "pygments_lexer": "ipython3",
   "version": "3.8.5"
  }
 },
 "nbformat": 4,
 "nbformat_minor": 5
}

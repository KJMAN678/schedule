{
 "cells": [
  {
   "cell_type": "code",
   "execution_count": 1,
   "id": "accredited-heritage",
   "metadata": {},
   "outputs": [],
   "source": [
    "from itertools import product\n",
    "import pandas as pd\n",
    "from mip import BINARY, Model, maximize, xsum\n",
    "from more_itertools import pairwise, windowed"
   ]
  },
  {
   "cell_type": "code",
   "execution_count": 2,
   "id": "important-composite",
   "metadata": {},
   "outputs": [
    {
     "name": "stdout",
     "output_type": "stream",
     "text": [
      "   Name Day Shift\n",
      "0    佐藤  D1     休\n",
      "5    田中  D2     休\n",
      "10   鈴木  D3     休\n",
      "31   高橋  D8     休\n"
     ]
    }
   ],
   "source": [
    "shifts = [\"日\", \"夜\", \"休\"] # シフトリスト\n",
    "dfws = pd.read_csv(\"wish.csv\") # 希望シフト\n",
    "days = dfws.columns[1:] # 日付リスト\n",
    "dffx = dfws.melt(\"Name\", days, \"Day\", \"Shift\").dropna() # モデルに使う希望リスト\n",
    "print(dffx)"
   ]
  },
  {
   "cell_type": "code",
   "execution_count": 3,
   "id": "finnish-dancing",
   "metadata": {},
   "outputs": [
    {
     "name": "stdout",
     "output_type": "stream",
     "text": [
      "   Name Day Shift\n",
      "0    佐藤  D1     日\n",
      "1    佐藤  D1     夜\n",
      "2    佐藤  D1     休\n",
      "3    佐藤  D2     日\n",
      "4    佐藤  D2     夜\n",
      "..  ...  ..   ...\n",
      "91   高橋  D7     夜\n",
      "92   高橋  D7     休\n",
      "93   高橋  D8     日\n",
      "94   高橋  D8     夜\n",
      "95   高橋  D8     休\n",
      "\n",
      "[96 rows x 3 columns]\n"
     ]
    }
   ],
   "source": [
    "d = product(dfws.Name, days, shifts)\n",
    "df = pd.DataFrame(d, columns=dffx.columns)\n",
    "print(df)"
   ]
  },
  {
   "cell_type": "code",
   "execution_count": 4,
   "id": "postal-health",
   "metadata": {},
   "outputs": [],
   "source": [
    "m = Model()"
   ]
  },
  {
   "cell_type": "code",
   "execution_count": 5,
   "id": "nuclear-statistics",
   "metadata": {},
   "outputs": [],
   "source": [
    "x = m.add_var_tensor((len(df),), \"x\", var_type=BINARY)"
   ]
  },
  {
   "cell_type": "code",
   "execution_count": 6,
   "id": "under-branch",
   "metadata": {},
   "outputs": [
    {
     "data": {
      "text/html": [
       "<div>\n",
       "<style scoped>\n",
       "    .dataframe tbody tr th:only-of-type {\n",
       "        vertical-align: middle;\n",
       "    }\n",
       "\n",
       "    .dataframe tbody tr th {\n",
       "        vertical-align: top;\n",
       "    }\n",
       "\n",
       "    .dataframe thead th {\n",
       "        text-align: right;\n",
       "    }\n",
       "</style>\n",
       "<table border=\"1\" class=\"dataframe\">\n",
       "  <thead>\n",
       "    <tr style=\"text-align: right;\">\n",
       "      <th></th>\n",
       "      <th>Name</th>\n",
       "      <th>Day</th>\n",
       "      <th>Shift</th>\n",
       "      <th>Var</th>\n",
       "    </tr>\n",
       "  </thead>\n",
       "  <tbody>\n",
       "    <tr>\n",
       "      <th>0</th>\n",
       "      <td>佐藤</td>\n",
       "      <td>D1</td>\n",
       "      <td>日</td>\n",
       "      <td>x_0</td>\n",
       "    </tr>\n",
       "    <tr>\n",
       "      <th>1</th>\n",
       "      <td>佐藤</td>\n",
       "      <td>D1</td>\n",
       "      <td>夜</td>\n",
       "      <td>x_1</td>\n",
       "    </tr>\n",
       "    <tr>\n",
       "      <th>2</th>\n",
       "      <td>佐藤</td>\n",
       "      <td>D1</td>\n",
       "      <td>休</td>\n",
       "      <td>x_2</td>\n",
       "    </tr>\n",
       "    <tr>\n",
       "      <th>3</th>\n",
       "      <td>佐藤</td>\n",
       "      <td>D2</td>\n",
       "      <td>日</td>\n",
       "      <td>x_3</td>\n",
       "    </tr>\n",
       "    <tr>\n",
       "      <th>4</th>\n",
       "      <td>佐藤</td>\n",
       "      <td>D2</td>\n",
       "      <td>夜</td>\n",
       "      <td>x_4</td>\n",
       "    </tr>\n",
       "    <tr>\n",
       "      <th>...</th>\n",
       "      <td>...</td>\n",
       "      <td>...</td>\n",
       "      <td>...</td>\n",
       "      <td>...</td>\n",
       "    </tr>\n",
       "    <tr>\n",
       "      <th>91</th>\n",
       "      <td>高橋</td>\n",
       "      <td>D7</td>\n",
       "      <td>夜</td>\n",
       "      <td>x_91</td>\n",
       "    </tr>\n",
       "    <tr>\n",
       "      <th>92</th>\n",
       "      <td>高橋</td>\n",
       "      <td>D7</td>\n",
       "      <td>休</td>\n",
       "      <td>x_92</td>\n",
       "    </tr>\n",
       "    <tr>\n",
       "      <th>93</th>\n",
       "      <td>高橋</td>\n",
       "      <td>D8</td>\n",
       "      <td>日</td>\n",
       "      <td>x_93</td>\n",
       "    </tr>\n",
       "    <tr>\n",
       "      <th>94</th>\n",
       "      <td>高橋</td>\n",
       "      <td>D8</td>\n",
       "      <td>夜</td>\n",
       "      <td>x_94</td>\n",
       "    </tr>\n",
       "    <tr>\n",
       "      <th>95</th>\n",
       "      <td>高橋</td>\n",
       "      <td>D8</td>\n",
       "      <td>休</td>\n",
       "      <td>x_95</td>\n",
       "    </tr>\n",
       "  </tbody>\n",
       "</table>\n",
       "<p>96 rows × 4 columns</p>\n",
       "</div>"
      ],
      "text/plain": [
       "   Name Day Shift   Var\n",
       "0    佐藤  D1     日   x_0\n",
       "1    佐藤  D1     夜   x_1\n",
       "2    佐藤  D1     休   x_2\n",
       "3    佐藤  D2     日   x_3\n",
       "4    佐藤  D2     夜   x_4\n",
       "..  ...  ..   ...   ...\n",
       "91   高橋  D7     夜  x_91\n",
       "92   高橋  D7     休  x_92\n",
       "93   高橋  D8     日  x_93\n",
       "94   高橋  D8     夜  x_94\n",
       "95   高橋  D8     休  x_95\n",
       "\n",
       "[96 rows x 4 columns]"
      ]
     },
     "execution_count": 6,
     "metadata": {},
     "output_type": "execute_result"
    }
   ],
   "source": [
    "df[\"Var\"] = x\n",
    "df"
   ]
  },
  {
   "cell_type": "code",
   "execution_count": 7,
   "id": "sacred-brisbane",
   "metadata": {},
   "outputs": [],
   "source": [
    "m.objective = maximize(xsum(dffx.merge(df).Var))"
   ]
  },
  {
   "cell_type": "markdown",
   "id": "turned-abuse",
   "metadata": {},
   "source": [
    "### 制約条件"
   ]
  },
  {
   "cell_type": "code",
   "execution_count": 8,
   "id": "synthetic-serial",
   "metadata": {},
   "outputs": [],
   "source": [
    "for _, gr in df.groupby([\"Name\", \"Day\"]):\n",
    "    m += xsum(gr.Var) == 1 # 看護師と日付の組み合わせごとにシフトは1つ\n",
    "for _, gr in df.groupby(\"Day\"):\n",
    "    m += xsum(gr[gr.Shift == \"日\"].Var) >= 2 # 日付ごとに日勤は2以上\n",
    "    m += xsum(gr[gr.Shift == \"夜\"].Var) >= 1 # 日付ごとに夜勤は1以上"
   ]
  },
  {
   "cell_type": "code",
   "execution_count": 18,
   "id": "federal-treasurer",
   "metadata": {},
   "outputs": [],
   "source": [
    "q1 = '(Day == @d1 & Shift == \"夜\")|'\n",
    "q2 = '(Day == @d1 & Shift != \"休\")'\n",
    "q3 = 'Day in @dd & Shift == \"休\"'"
   ]
  },
  {
   "cell_type": "code",
   "execution_count": 20,
   "id": "square-maple",
   "metadata": {},
   "outputs": [],
   "source": [
    "for _, gr in df.groupby(\"Name\"):\n",
    "    m += xsum(gr[gr.Shift == \"日\"].Var) <= 4 # 看護婦ごとに日勤は4以上\n",
    "    m += xsum(gr[gr.Shift == \"夜\"].Var) <= 2 # 看護婦ごとに夜勤は2以上\n",
    "    for d1, d2 in pairwise(days):\n",
    "        m += xsum(gr.query(q1 + q2, engine='python').Var) <= 1 # 夜勤と翌日休みはどちらかだけ\n",
    "    for dd in windowed(days, 4):\n",
    "        m += xsum(gr.query(q3, engine='python').Var) >= 1 # 4連続勤務のうち休みは1日以上"
   ]
  },
  {
   "cell_type": "markdown",
   "id": "impressed-click",
   "metadata": {},
   "source": [
    "more_itertools.pairwise（反復可能）[ソース]  \n",
    "元のアイテムから、重複するペアアイテムのイテレータを返します  \n",
    "\n",
    "take(4, pairwise(count()))  \n",
    "[(0, 1), (1, 2), (2, 3), (3, 4)]  "
   ]
  },
  {
   "cell_type": "code",
   "execution_count": 21,
   "id": "featured-parks",
   "metadata": {},
   "outputs": [
    {
     "name": "stdout",
     "output_type": "stream",
     "text": [
      "Index(['D1', 'D2', 'D3', 'D4', 'D5', 'D6', 'D7', 'D8'], dtype='object')\n"
     ]
    }
   ],
   "source": [
    "print(days)"
   ]
  },
  {
   "cell_type": "code",
   "execution_count": 22,
   "id": "binary-wiring",
   "metadata": {},
   "outputs": [
    {
     "name": "stdout",
     "output_type": "stream",
     "text": [
      "D1 D2\n",
      "D2 D3\n",
      "D3 D4\n",
      "D4 D5\n",
      "D5 D6\n",
      "D6 D7\n",
      "D7 D8\n"
     ]
    }
   ],
   "source": [
    "for d1, d2 in pairwise(days):\n",
    "    print(d1, d2)"
   ]
  },
  {
   "cell_type": "markdown",
   "id": "psychological-consideration",
   "metadata": {},
   "source": [
    "ore_itertools.windowed（seq、n、fillvalue = None、step = 1 ）[ソース]  \n",
    "指定されたイテラブル上で幅nのスライディングウィンドウを返します。  \n",
    "\n",
    "all_windows = windowed([1, 2, 3, 4, 5], 3)  \n",
    "list(all_windows)  \n",
    "[(1, 2, 3), (2, 3, 4), (3, 4, 5)]  "
   ]
  },
  {
   "cell_type": "code",
   "execution_count": 23,
   "id": "smoking-webmaster",
   "metadata": {},
   "outputs": [
    {
     "name": "stdout",
     "output_type": "stream",
     "text": [
      "('D1', 'D2', 'D3', 'D4')\n",
      "('D2', 'D3', 'D4', 'D5')\n",
      "('D3', 'D4', 'D5', 'D6')\n",
      "('D4', 'D5', 'D6', 'D7')\n",
      "('D5', 'D6', 'D7', 'D8')\n"
     ]
    }
   ],
   "source": [
    "for dd in windowed(days, 4):\n",
    "    print(dd)"
   ]
  },
  {
   "cell_type": "code",
   "execution_count": 24,
   "id": "applied-richardson",
   "metadata": {},
   "outputs": [
    {
     "data": {
      "text/plain": [
       "<OptimizationStatus.OPTIMAL: 0>"
      ]
     },
     "execution_count": 24,
     "metadata": {},
     "output_type": "execute_result"
    }
   ],
   "source": [
    "m.optimize()"
   ]
  },
  {
   "cell_type": "markdown",
   "id": "abroad-cleaner",
   "metadata": {},
   "source": [
    "### 結果の作成"
   ]
  },
  {
   "cell_type": "code",
   "execution_count": 25,
   "id": "frozen-installation",
   "metadata": {},
   "outputs": [],
   "source": [
    "df[\"Val\"] = df.Var.astype(float)"
   ]
  },
  {
   "cell_type": "code",
   "execution_count": 27,
   "id": "smooth-regular",
   "metadata": {},
   "outputs": [
    {
     "data": {
      "text/html": [
       "<div>\n",
       "<style scoped>\n",
       "    .dataframe tbody tr th:only-of-type {\n",
       "        vertical-align: middle;\n",
       "    }\n",
       "\n",
       "    .dataframe tbody tr th {\n",
       "        vertical-align: top;\n",
       "    }\n",
       "\n",
       "    .dataframe thead th {\n",
       "        text-align: right;\n",
       "    }\n",
       "</style>\n",
       "<table border=\"1\" class=\"dataframe\">\n",
       "  <thead>\n",
       "    <tr style=\"text-align: right;\">\n",
       "      <th></th>\n",
       "      <th>Name</th>\n",
       "      <th>Day</th>\n",
       "      <th>Shift</th>\n",
       "      <th>Var</th>\n",
       "      <th>Val</th>\n",
       "    </tr>\n",
       "  </thead>\n",
       "  <tbody>\n",
       "    <tr>\n",
       "      <th>2</th>\n",
       "      <td>佐藤</td>\n",
       "      <td>D1</td>\n",
       "      <td>休</td>\n",
       "      <td>x_2</td>\n",
       "      <td>1.0</td>\n",
       "    </tr>\n",
       "    <tr>\n",
       "      <th>3</th>\n",
       "      <td>佐藤</td>\n",
       "      <td>D2</td>\n",
       "      <td>日</td>\n",
       "      <td>x_3</td>\n",
       "      <td>1.0</td>\n",
       "    </tr>\n",
       "    <tr>\n",
       "      <th>6</th>\n",
       "      <td>佐藤</td>\n",
       "      <td>D3</td>\n",
       "      <td>日</td>\n",
       "      <td>x_6</td>\n",
       "      <td>1.0</td>\n",
       "    </tr>\n",
       "    <tr>\n",
       "      <th>9</th>\n",
       "      <td>佐藤</td>\n",
       "      <td>D4</td>\n",
       "      <td>日</td>\n",
       "      <td>x_9</td>\n",
       "      <td>1.0</td>\n",
       "    </tr>\n",
       "    <tr>\n",
       "      <th>14</th>\n",
       "      <td>佐藤</td>\n",
       "      <td>D5</td>\n",
       "      <td>休</td>\n",
       "      <td>x_14</td>\n",
       "      <td>1.0</td>\n",
       "    </tr>\n",
       "  </tbody>\n",
       "</table>\n",
       "</div>"
      ],
      "text/plain": [
       "   Name Day Shift   Var  Val\n",
       "2    佐藤  D1     休   x_2  1.0\n",
       "3    佐藤  D2     日   x_3  1.0\n",
       "6    佐藤  D3     日   x_6  1.0\n",
       "9    佐藤  D4     日   x_9  1.0\n",
       "14   佐藤  D5     休  x_14  1.0"
      ]
     },
     "execution_count": 27,
     "metadata": {},
     "output_type": "execute_result"
    }
   ],
   "source": [
    "res = df[df.Val > 0]\n",
    "res.head()"
   ]
  },
  {
   "cell_type": "code",
   "execution_count": 28,
   "id": "square-auction",
   "metadata": {},
   "outputs": [
    {
     "data": {
      "text/html": [
       "<div>\n",
       "<style scoped>\n",
       "    .dataframe tbody tr th:only-of-type {\n",
       "        vertical-align: middle;\n",
       "    }\n",
       "\n",
       "    .dataframe tbody tr th {\n",
       "        vertical-align: top;\n",
       "    }\n",
       "\n",
       "    .dataframe thead th {\n",
       "        text-align: right;\n",
       "    }\n",
       "</style>\n",
       "<table border=\"1\" class=\"dataframe\">\n",
       "  <thead>\n",
       "    <tr style=\"text-align: right;\">\n",
       "      <th>Day</th>\n",
       "      <th>D1</th>\n",
       "      <th>D2</th>\n",
       "      <th>D3</th>\n",
       "      <th>D4</th>\n",
       "      <th>D5</th>\n",
       "      <th>D6</th>\n",
       "      <th>D7</th>\n",
       "      <th>D8</th>\n",
       "    </tr>\n",
       "    <tr>\n",
       "      <th>Name</th>\n",
       "      <th></th>\n",
       "      <th></th>\n",
       "      <th></th>\n",
       "      <th></th>\n",
       "      <th></th>\n",
       "      <th></th>\n",
       "      <th></th>\n",
       "      <th></th>\n",
       "    </tr>\n",
       "  </thead>\n",
       "  <tbody>\n",
       "    <tr>\n",
       "      <th>佐藤</th>\n",
       "      <td>休</td>\n",
       "      <td>日</td>\n",
       "      <td>日</td>\n",
       "      <td>日</td>\n",
       "      <td>休</td>\n",
       "      <td>日</td>\n",
       "      <td>夜</td>\n",
       "      <td>夜</td>\n",
       "    </tr>\n",
       "    <tr>\n",
       "      <th>田中</th>\n",
       "      <td>日</td>\n",
       "      <td>休</td>\n",
       "      <td>日</td>\n",
       "      <td>夜</td>\n",
       "      <td>夜</td>\n",
       "      <td>休</td>\n",
       "      <td>日</td>\n",
       "      <td>日</td>\n",
       "    </tr>\n",
       "    <tr>\n",
       "      <th>鈴木</th>\n",
       "      <td>日</td>\n",
       "      <td>夜</td>\n",
       "      <td>休</td>\n",
       "      <td>日</td>\n",
       "      <td>日</td>\n",
       "      <td>夜</td>\n",
       "      <td>休</td>\n",
       "      <td>日</td>\n",
       "    </tr>\n",
       "    <tr>\n",
       "      <th>高橋</th>\n",
       "      <td>夜</td>\n",
       "      <td>日</td>\n",
       "      <td>夜</td>\n",
       "      <td>休</td>\n",
       "      <td>日</td>\n",
       "      <td>日</td>\n",
       "      <td>日</td>\n",
       "      <td>休</td>\n",
       "    </tr>\n",
       "  </tbody>\n",
       "</table>\n",
       "</div>"
      ],
      "text/plain": [
       "Day  D1 D2 D3 D4 D5 D6 D7 D8\n",
       "Name                        \n",
       "佐藤    休  日  日  日  休  日  夜  夜\n",
       "田中    日  休  日  夜  夜  休  日  日\n",
       "鈴木    日  夜  休  日  日  夜  休  日\n",
       "高橋    夜  日  夜  休  日  日  日  休"
      ]
     },
     "execution_count": 28,
     "metadata": {},
     "output_type": "execute_result"
    }
   ],
   "source": [
    "res = res.pivot_table(\"Shift\", \"Name\", \"Day\", \"first\")\n",
    "res"
   ]
  },
  {
   "cell_type": "code",
   "execution_count": 29,
   "id": "greenhouse-unknown",
   "metadata": {},
   "outputs": [
    {
     "name": "stdout",
     "output_type": "stream",
     "text": [
      "ステータス：OptimizationStatus.OPTIMAL\n",
      "希望をかなえた数：4.0\n",
      "Day  D1 D2 D3 D4 D5 D6 D7 D8\n",
      "Name                        \n",
      "佐藤    休  日  日  日  休  日  夜  夜\n",
      "田中    日  休  日  夜  夜  休  日  日\n",
      "鈴木    日  夜  休  日  日  夜  休  日\n",
      "高橋    夜  日  夜  休  日  日  日  休\n"
     ]
    }
   ],
   "source": [
    "print(f\"ステータス：{m.status}\")\n",
    "print(f\"希望をかなえた数：{m.objective.x}\")\n",
    "print(res)"
   ]
  },
  {
   "cell_type": "code",
   "execution_count": null,
   "id": "unnecessary-opposition",
   "metadata": {},
   "outputs": [],
   "source": []
  }
 ],
 "metadata": {
  "kernelspec": {
   "display_name": "Python 3",
   "language": "python",
   "name": "python3"
  },
  "language_info": {
   "codemirror_mode": {
    "name": "ipython",
    "version": 3
   },
   "file_extension": ".py",
   "mimetype": "text/x-python",
   "name": "python",
   "nbconvert_exporter": "python",
   "pygments_lexer": "ipython3",
   "version": "3.8.8"
  }
 },
 "nbformat": 4,
 "nbformat_minor": 5
}
